{
  "nbformat": 4,
  "nbformat_minor": 0,
  "metadata": {
    "colab": {
      "name": "Assignment1.ipynb",
      "provenance": [],
      "authorship_tag": "ABX9TyPsrNf09lcKDD3tx6lKl2s1",
      "include_colab_link": true
    },
    "kernelspec": {
      "name": "python3",
      "display_name": "Python 3"
    },
    "language_info": {
      "name": "python"
    }
  },
  "cells": [
    {
      "cell_type": "markdown",
      "metadata": {
        "id": "view-in-github",
        "colab_type": "text"
      },
      "source": [
        "<a href=\"https://colab.research.google.com/github/vineelabaisa9119/2216119_AIML_BootCamp/blob/main/Assignment1.ipynb\" target=\"_parent\"><img src=\"https://colab.research.google.com/assets/colab-badge.svg\" alt=\"Open In Colab\"/></a>"
      ]
    },
    {
      "cell_type": "markdown",
      "source": [
        "1.Implement the methods of String with examples\n"
      ],
      "metadata": {
        "id": "TU7yaFUkiQI8"
      }
    },
    {
      "cell_type": "code",
      "execution_count": null,
      "metadata": {
        "colab": {
          "base_uri": "https://localhost:8080/"
        },
        "id": "RtO-sjbEgOVX",
        "outputId": "1382deaa-7f37-4743-a663-cb3058c85579"
      },
      "outputs": [
        {
          "output_type": "stream",
          "name": "stdout",
          "text": [
            "\\INDEXING\n",
            "V\n",
            "i\n",
            "\n",
            "\n",
            "\\SLICING\n",
            "Vaishnavi\n",
            "aishnavi\n",
            "Vais\n",
            "hnav\n",
            "Viha\n",
            "\n",
            "\n",
            "\\REV STRING\n",
            "ivanhsiaV\n",
            "\n",
            "\n",
            "\\STRING OPERATIONS\n",
            "superwoman\n",
            "supersuper\n",
            "\n",
            "\n",
            "\\STRING METHODS\n",
            "VINEELA BAISA\n",
            "vineela baisa\n",
            "vINEELA bAISA\n",
            "VINEELA BAISA\n",
            "Vineela Baisa\n",
            "\n",
            "\n",
            "ORIGINAL\n",
            "gradStellar is teaching python\n",
            "---upper\n",
            "GRADSTELLAR IS TEACHING PYTHON\n",
            "--lower\n",
            "gradstellar is teaching python\n",
            "--swapcase\n",
            "GRADsTELLAR IS TEACHING PYTHON\n",
            "--title\n",
            "Gradstellar Is Teaching Python\n",
            "--capitalize\n",
            "Gradstellar is teaching python\n",
            "\n",
            "\n",
            "     This is vineela     \n",
            "--strip\n",
            "This is vineela\n",
            "--lstrip\n",
            "This is vineela     \n",
            "--rstrip\n",
            "     This is vineela\n",
            "\n",
            "\n"
          ]
        }
      ],
      "source": [
        "#STRINGS\n",
        "str=\"Vaishnavi\"\n",
        "\n",
        "#indexing\n",
        "print(\"\\\\INDEXING\")\n",
        "print(str[0])\n",
        "print(str[-1])\n",
        "print(\"\\n\")\n",
        "\n",
        "#slicing\n",
        "print(\"\\\\SLICING\")\n",
        "print(str[:])#total\n",
        "print(str[1:])\n",
        "print(str[:4])\n",
        "print(str[-5:-1])\n",
        "print(str[0:8:2])\n",
        "print(\"\\n\")\n",
        "\n",
        "#reverse string\n",
        "print(\"\\\\REV STRING\")\n",
        "print(str[::-1])\n",
        "print(\"\\n\")\n",
        "\n",
        "#string operations\n",
        "print(\"\\\\STRING OPERATIONS\")\n",
        "str1=\"super\"\n",
        "str2=\"woman\"\n",
        "\n",
        "str3=str1+str2\n",
        "print(str3)\n",
        "str4=str1*2\n",
        "print(str4)\n",
        "print(\"\\n\")\n",
        "\n",
        "#string methods\n",
        "print(\"\\\\STRING METHODS\")\n",
        "my_str=\"Vineela Baisa\"\n",
        "print(my_str.upper())\n",
        "print(my_str.lower())\n",
        "print(my_str.swapcase())\n",
        "print(my_str.upper())\n",
        "print(my_str.title())\n",
        "print(\"\\n\")\n",
        "\n",
        "print(  \"ORIGINAL\")\n",
        "str01=\"gradStellar is teaching python\"\n",
        "print(str01)\n",
        "print(\"---upper\")\n",
        "print(str01.upper())\n",
        "print(\"--lower\")\n",
        "print(str01.lower())\n",
        "print(\"--swapcase\")\n",
        "print(str01.swapcase())\n",
        "print(\"--title\")\n",
        "print(str01.title())\n",
        "print(\"--capitalize\")\n",
        "print(str01.capitalize())\n",
        "print(\"\\n\")\n",
        "str5=\"     This is vineela     \"\n",
        "print(str5)\n",
        "print(\"--strip\")\n",
        "print(str5.strip())\n",
        "print(\"--lstrip\")\n",
        "print(str5.lstrip())\n",
        "print(\"--rstrip\")\n",
        "print(str5.rstrip())\n",
        "print(\"\\n\")"
      ]
    },
    {
      "cell_type": "markdown",
      "source": [
        "3.Implement the methods of tuple with examples."
      ],
      "metadata": {
        "id": "TtYXPS-zlqzO"
      }
    },
    {
      "cell_type": "code",
      "source": [
        "#TUPLESS\n",
        "t=(1,2,3,4)\n",
        "t1=(\"hii\",1.5)\n",
        "\n",
        "#indexing\n",
        "print(\"--INDEXING\")\n",
        "print(t1[0])\n",
        "\n",
        "#tuple methods\n",
        "print(\"--TUPLE METHODS--\")\n",
        "print(\"--COUNT\")\n",
        "print(t1.count(1))\n",
        "print(t.index(2))\n",
        "print(\"--MAX & MIN\")\n",
        "print(max(t))\n",
        "print(min(t))\n",
        "print(\"--LENGTH\")\n",
        "print(len(t1))"
      ],
      "metadata": {
        "colab": {
          "base_uri": "https://localhost:8080/"
        },
        "id": "A_MA1i2Wl51W",
        "outputId": "64a9e3f3-0cbc-42f9-f338-12ea58e9dc45"
      },
      "execution_count": null,
      "outputs": [
        {
          "output_type": "stream",
          "name": "stdout",
          "text": [
            "--INDEXING\n",
            "hii\n",
            "--TUPLE METHODS--\n",
            "--COUNT\n",
            "0\n",
            "1\n",
            "--MAX & MIN\n",
            "4\n",
            "1\n",
            "--LENGTH\n",
            "2\n"
          ]
        }
      ]
    },
    {
      "cell_type": "markdown",
      "source": [
        "2.Implement the methods of List with examples"
      ],
      "metadata": {
        "id": "JStHgZ23njxr"
      }
    },
    {
      "cell_type": "code",
      "source": [
        "#LIST\n",
        "my_list=[1,\"hollaa\",9.1]\n",
        "\n",
        "#indexing\n",
        "print(my_list[1])\n",
        "\n",
        "#slicing\n",
        "print(my_list[1:2])\n",
        "\n",
        "#nested list\n",
        "\n",
        "n_list=[\"helloo\",[1,9.1]]\n",
        "print(n_list[0][1])\n",
        "print(n_list[1][1])\n",
        "\n",
        "#list methods\n",
        "l1=[1,2,3]\n",
        "l1.append(4)\n",
        "print(l1)\n",
        "\n",
        "l1.extend([5,6,7,8])\n",
        "print(l1)\n",
        "\n",
        "l2=[21,52,12,29,52,36,95,41,52]\n",
        "print(\"--COUNT\")\n",
        "print(l2.count(52))\n",
        "print(len(l2))\n",
        "print(\"--REVERSE\")\n",
        "l1.reverse()\n",
        "print(l1)\n",
        "print(\"--SORT\")\n",
        "l1.sort()\n",
        "print(l1)\n",
        "print(\"--APPEND\")\n",
        "l1.append(l2)\n",
        "print(l1)\n",
        "print(\"--DEL\")\n",
        "del l2[3]\n",
        "print(l2)\n",
        "del l2[0:2]\n",
        "print(l2)\n",
        "print(\"--REMOVE\")\n",
        "l2.remove(41)\n",
        "print(l2)\n",
        "print(\"--POP\")\n",
        "l2.pop()\n",
        "print(l2)\n",
        "print(\"--CLEAR\")\n",
        "l2.clear()\n",
        "print(\"list elements:\",l2)"
      ],
      "metadata": {
        "colab": {
          "base_uri": "https://localhost:8080/"
        },
        "id": "n39EWDVFnmfI",
        "outputId": "85b7432f-8e27-495a-9cbd-d8fcb742b66d"
      },
      "execution_count": null,
      "outputs": [
        {
          "output_type": "stream",
          "name": "stdout",
          "text": [
            "hollaa\n",
            "['hollaa']\n",
            "e\n",
            "9.1\n",
            "[1, 2, 3, 4]\n",
            "[1, 2, 3, 4, 5, 6, 7, 8]\n",
            "--COUNT\n",
            "3\n",
            "9\n",
            "--REVERSE\n",
            "[8, 7, 6, 5, 4, 3, 2, 1]\n",
            "--SORT\n",
            "[1, 2, 3, 4, 5, 6, 7, 8]\n",
            "--APPEND\n",
            "[1, 2, 3, 4, 5, 6, 7, 8, [21, 52, 12, 29, 52, 36, 95, 41, 52]]\n",
            "--DEL\n",
            "[21, 52, 12, 52, 36, 95, 41, 52]\n",
            "[12, 52, 36, 95, 41, 52]\n",
            "--REMOVE\n",
            "[12, 52, 36, 95, 52]\n",
            "--POP\n",
            "[12, 52, 36, 95]\n",
            "--CLEAR\n",
            "list elements: []\n"
          ]
        }
      ]
    },
    {
      "cell_type": "markdown",
      "source": [
        "4.Implement the methods of Dictionary with examples."
      ],
      "metadata": {
        "id": "zc2y3WSgo63Q"
      }
    },
    {
      "cell_type": "code",
      "source": [
        "z={\"name\":\"VINNYBAISA\",\"phn\":7993176997,\"age\":19}\n",
        "print(\"--DICT METHODS--\")\n",
        "print(\"--GET\")\n",
        "print(z.get(\"age\"))\n",
        "print(z['name'])\n",
        "print(\"--KEYS\")\n",
        "print(z.keys())\n",
        "print(\"--VALUES\")\n",
        "print(z.values())"
      ],
      "metadata": {
        "colab": {
          "base_uri": "https://localhost:8080/"
        },
        "id": "YKGd43QcpBIm",
        "outputId": "09197549-d63c-4caa-995d-b9b8738eec9f"
      },
      "execution_count": null,
      "outputs": [
        {
          "output_type": "stream",
          "name": "stdout",
          "text": [
            "--DICT METHODS--\n",
            "--GET\n",
            "19\n",
            "VINNYBAISA\n",
            "--KEYS\n",
            "dict_keys(['name', 'phn', 'age'])\n",
            "--VALUES\n",
            "dict_values(['VINNYBAISA', 7993176997, 19])\n"
          ]
        }
      ]
    },
    {
      "cell_type": "markdown",
      "source": [
        "5.Implement the methods of Set with examples."
      ],
      "metadata": {
        "id": "PIo-y3VCpa62"
      }
    },
    {
      "cell_type": "code",
      "source": [
        "#SETSSS\n",
        "print(\"SETS\")\n",
        "set1={1,2,3,4}\n",
        "set2={1,2,3,\"hi\",(1,2,3)}\n",
        "\n",
        "#convert list into set\n",
        "print(\"--LIST INTO SET--\")\n",
        "l1=[1,3,5,7]\n",
        "set3=set(l1)\n",
        "print(set3)\n",
        "\n",
        "print(\"--ADD\")\n",
        "set1.add(5)\n",
        "print(set1)\n",
        "print(\"--UPDATE\")\n",
        "set1.update([2,3,4])\n",
        "print(set1)\n",
        "print(\"--DISCARD\")\n",
        "set1.discard(3)\n",
        "print(set1)\n",
        "print(\"--REMOVE\")\n",
        "set1.remove(4)\n",
        "print(set1)\n",
        "\n",
        "#set operations\n",
        "print(\"--SET OPERATIONS--\")\n",
        "a={1,2,3,4,5}\n",
        "b={4,5,6,7,8}\n",
        "print(\"--UNION\")\n",
        "print(a|b)\n",
        "print(a.union(b))\n",
        "print(\"--INTERSECTION\")\n",
        "print(a&b)\n",
        "print(a.intersection(b))\n",
        "print(\"--DIFFERENCE\")\n",
        "print(a-b)\n",
        "print(a.difference(b))"
      ],
      "metadata": {
        "colab": {
          "base_uri": "https://localhost:8080/"
        },
        "id": "-vt0iu2it-dU",
        "outputId": "c061bcf0-2f92-4035-9710-d139181f13ac"
      },
      "execution_count": null,
      "outputs": [
        {
          "output_type": "stream",
          "name": "stdout",
          "text": [
            "SETS\n",
            "--LIST INTO SET--\n",
            "{1, 3, 5, 7}\n",
            "--ADD\n",
            "{1, 2, 3, 4, 5}\n",
            "--UPDATE\n",
            "{1, 2, 3, 4, 5}\n",
            "--DISCARD\n",
            "{1, 2, 4, 5}\n",
            "--REMOVE\n",
            "{1, 2, 5}\n",
            "--SET OPERATIONS--\n",
            "--UNION\n",
            "{1, 2, 3, 4, 5, 6, 7, 8}\n",
            "{1, 2, 3, 4, 5, 6, 7, 8}\n",
            "--INTERSECTION\n",
            "{4, 5}\n",
            "{4, 5}\n",
            "--DIFFERENCE\n",
            "{1, 2, 3}\n",
            "{1, 2, 3}\n"
          ]
        }
      ]
    },
    {
      "cell_type": "markdown",
      "source": [
        "6.Write a python program to convert Decimal to Binary, Octal and Hexadecimal with direct method."
      ],
      "metadata": {
        "id": "J44DGXlruiSs"
      }
    },
    {
      "cell_type": "code",
      "source": [
        "#let decimal value be 986\n",
        "dec=986\n",
        "print(\"DECIMAL VALUE IS {}\".format(dec))\n",
        "print(\"--BINARY\")\n",
        "print(bin(dec))\n",
        "print(\"--OCTAL\")\n",
        "print(oct(dec))\n",
        "print(\"--HEXADECIMAL\")\n",
        "print(hex(dec))"
      ],
      "metadata": {
        "colab": {
          "base_uri": "https://localhost:8080/"
        },
        "id": "3LIcYohMuqS8",
        "outputId": "588ebddb-e128-45c8-dc9d-7b55ad6ad415"
      },
      "execution_count": null,
      "outputs": [
        {
          "output_type": "stream",
          "name": "stdout",
          "text": [
            "DECIMAL VALUE IS 986\n",
            "--BINARY\n",
            "0b1111011010\n",
            "--OCTAL\n",
            "0o1732\n",
            "--HEXADECIMAL\n",
            "0x3da\n"
          ]
        }
      ]
    },
    {
      "cell_type": "markdown",
      "source": [
        "7.Implement Arithmetic operators with examples."
      ],
      "metadata": {
        "id": "1BB9DxJsu8Rk"
      }
    },
    {
      "cell_type": "code",
      "source": [
        "#arithmetic operators\n",
        "a=9\n",
        "b=3\n",
        "print(\"--ADD\")\n",
        "print(a+b)\n",
        "print(\"--SUB\")\n",
        "print(a-b)\n",
        "print(\"--MUL\")\n",
        "print(a*b)\n",
        "print(\"--DIV\")\n",
        "print(a/b) #WITH FLOAT VALUE\n",
        "print(a//b)#WITHOUT FLOAT VALUE\n",
        "print(\"--MOD DIV\")\n",
        "print(a%b)\n",
        "print(\"--POWER\")\n",
        "print(a**b)"
      ],
      "metadata": {
        "colab": {
          "base_uri": "https://localhost:8080/"
        },
        "id": "wXTI4iPqu-ER",
        "outputId": "b10a78b8-39ac-4644-af55-8ec2f1cdc51d"
      },
      "execution_count": null,
      "outputs": [
        {
          "output_type": "stream",
          "name": "stdout",
          "text": [
            "--ADD\n",
            "12\n",
            "--SUB\n",
            "6\n",
            "--MUL\n",
            "27\n",
            "--DIV\n",
            "3.0\n",
            "3\n",
            "--MOD DIV\n",
            "0\n",
            "--POWER\n",
            "729\n"
          ]
        }
      ]
    },
    {
      "cell_type": "markdown",
      "source": [
        "8.Implement Assignment operators with examples."
      ],
      "metadata": {
        "id": "EGuL4asBvgm-"
      }
    },
    {
      "cell_type": "code",
      "source": [
        "a=23\n",
        "c=16\n",
        "print(\"--ADD\")\n",
        "c+=a\n",
        "print(c)\n",
        "print(\"--SUB\")\n",
        "c-=a\n",
        "print(c)\n",
        "print(\"--MUL\")\n",
        "c*=a\n",
        "print(c)\n",
        "print(\"--DIV\")\n",
        "c/=a\n",
        "print(a/b) \n",
        "print(\"--MOD DIV\")\n",
        "c%=a\n",
        "print(c)\n",
        "print(\"--POWER\")\n",
        "c**=a\n",
        "print(c)"
      ],
      "metadata": {
        "colab": {
          "base_uri": "https://localhost:8080/"
        },
        "id": "NJ1zLp6wvi-e",
        "outputId": "0f923c1f-d9c5-4104-d57f-fb797b8511fb"
      },
      "execution_count": null,
      "outputs": [
        {
          "output_type": "stream",
          "name": "stdout",
          "text": [
            "--ADD\n",
            "39\n",
            "--SUB\n",
            "16\n",
            "--MUL\n",
            "368\n",
            "--DIV\n",
            "7.666666666666667\n",
            "--MOD DIV\n",
            "16.0\n",
            "--POWER\n",
            "4.951760157141521e+27\n"
          ]
        }
      ]
    },
    {
      "cell_type": "markdown",
      "source": [
        "9.Implement Comparison operators with examples."
      ],
      "metadata": {
        "id": "3c9OvJjRvyDO"
      }
    },
    {
      "cell_type": "code",
      "source": [
        "#comparision operators\n",
        "a = 2\n",
        "b = 1\n",
        "print(\"--EQUAL\")\n",
        "if ( a == b ):\n",
        "   print(\"true\")\n",
        "else:\n",
        "   print(\"false\")\n",
        "print(\"-- NOT EQUAL\")\n",
        "if ( a != b ):\n",
        "   print(\"true\")\n",
        "else:\n",
        "   print(\"false\")\n",
        "print(\"--LESSER\")\n",
        "if ( a < b ):\n",
        "  print(\"true\")\n",
        "else:\n",
        "   print(\"false\")\n",
        "print(\"--GREATER\")\n",
        "if ( a > b ):\n",
        "  print(\"true\")\n",
        "else:\n",
        "   print(\"false\")\n",
        "print(\"--LESS OR EQUAL\")\n",
        "if ( a <=b ):\n",
        "  print(\"true\")\n",
        "else:\n",
        "   print(\"false\")\n",
        "print(\"--GREATER OR EQUAL\")\n",
        "if ( a >= b ):\n",
        "  print(\"true\")\n",
        "else:\n",
        "   print(\"false\")"
      ],
      "metadata": {
        "colab": {
          "base_uri": "https://localhost:8080/"
        },
        "id": "sO6LaT6Tv9wO",
        "outputId": "c73d6ffb-f1fb-4f4a-be09-492d41d0bd12"
      },
      "execution_count": null,
      "outputs": [
        {
          "output_type": "stream",
          "name": "stdout",
          "text": [
            "--EQUAL\n",
            "false\n",
            "-- NOT EQUAL\n",
            "true\n",
            "--LESSER\n",
            "false\n",
            "--GREATER\n",
            "true\n",
            "--LESS OR EQUAL\n",
            "false\n",
            "--GREATER OR EQUAL\n",
            "true\n"
          ]
        }
      ]
    },
    {
      "cell_type": "markdown",
      "source": [
        "10.Implement Logical operators with examples"
      ],
      "metadata": {
        "id": "Z01AL3fqyF3w"
      }
    },
    {
      "cell_type": "code",
      "source": [
        "x=True\n",
        "y=False\n",
        "print(\"--AND\")\n",
        "print(\"x and y is\",x and y)\n",
        "print(\"--OR\")\n",
        "print(\"x or y is\",x or y)\n",
        "print(\"--NOT\")\n",
        "print(\"x not is\",not x)"
      ],
      "metadata": {
        "colab": {
          "base_uri": "https://localhost:8080/"
        },
        "id": "av2870SkyV1B",
        "outputId": "ef7aaa26-d91c-44d9-e83f-735e7977e662"
      },
      "execution_count": null,
      "outputs": [
        {
          "output_type": "stream",
          "name": "stdout",
          "text": [
            "--AND\n",
            "x and y is False\n",
            "--OR\n",
            "x or y is True\n",
            "--NOT\n",
            "x not is False\n"
          ]
        }
      ]
    },
    {
      "cell_type": "markdown",
      "source": [
        "11.Implement Bitwise operators with examples."
      ],
      "metadata": {
        "id": "aZyQtK6hycTB"
      }
    },
    {
      "cell_type": "code",
      "source": [
        "#bitwise operators\n",
        "a=15\n",
        "B=20\n",
        "print(\"--AND\")\n",
        "print(a&b)\n",
        "print(\"--AXOR\")\n",
        "print(a^b)\n",
        "print(\"--OR\")\n",
        "print(a|b)\n",
        "print(\"--NOT\")\n",
        "print(~a)\n",
        "print(\"--R SHIFT\")\n",
        "print(a>>2)#right shift\n",
        "print(\"--L SHIFT\")\n",
        "print(a<<4)#left shift"
      ],
      "metadata": {
        "colab": {
          "base_uri": "https://localhost:8080/"
        },
        "id": "gXDM5lB-ygoD",
        "outputId": "e5d6d032-ed49-436a-9e86-43ed90e6c867"
      },
      "execution_count": null,
      "outputs": [
        {
          "output_type": "stream",
          "name": "stdout",
          "text": [
            "--AND\n",
            "1\n",
            "--AXOR\n",
            "14\n",
            "--OR\n",
            "15\n",
            "--NOT\n",
            "-16\n",
            "--R SHIFT\n",
            "3\n",
            "--L SHIFT\n",
            "240\n"
          ]
        }
      ]
    },
    {
      "cell_type": "markdown",
      "source": [
        "12.Implement Membership operators with example."
      ],
      "metadata": {
        "id": "HveUNGuZ0A2E"
      }
    },
    {
      "cell_type": "code",
      "source": [
        "x=\"Hello\"\n",
        "y={1:'a',2:'b'}\n",
        "print('H' in x)\n",
        "print(1 in y)\n",
        "print('a'in y)"
      ],
      "metadata": {
        "colab": {
          "base_uri": "https://localhost:8080/"
        },
        "id": "lN-bQ8Ds0hNZ",
        "outputId": "c5f59f10-424d-438f-f26a-6733b72307a2"
      },
      "execution_count": null,
      "outputs": [
        {
          "output_type": "stream",
          "name": "stdout",
          "text": [
            "True\n",
            "True\n",
            "False\n"
          ]
        }
      ]
    },
    {
      "cell_type": "markdown",
      "source": [
        "13.Implement Identity operators with examples."
      ],
      "metadata": {
        "id": "mUonJLVn0j1m"
      }
    },
    {
      "cell_type": "code",
      "source": [
        "x1=2\n",
        "y1=2\n",
        "x2=\"HII\"\n",
        "y2=\"HII\"\n",
        "x3=[1,2,3]\n",
        "y3=[1,2,3]\n",
        "print(\"--IS NOT\")\n",
        "print(x1 is not y1)\n",
        "print(\"--IS\")\n",
        "print(x2 is y2)\n",
        "print(x3 is y3)"
      ],
      "metadata": {
        "colab": {
          "base_uri": "https://localhost:8080/"
        },
        "id": "Z3ADXBYC00Nh",
        "outputId": "1b815a9c-ca7b-414d-cd94-679c0acaacbd"
      },
      "execution_count": null,
      "outputs": [
        {
          "output_type": "stream",
          "name": "stdout",
          "text": [
            "--IS NOT\n",
            "False\n",
            "--IS\n",
            "True\n",
            "False\n"
          ]
        }
      ]
    },
    {
      "cell_type": "markdown",
      "source": [
        "14.Demonstrate Negative indexing for List and apply slicing."
      ],
      "metadata": {
        "id": "M_55-vFe03n_"
      }
    },
    {
      "cell_type": "code",
      "source": [
        "#LIST\n",
        "l1=[1,2,3,4]\n",
        "l2=[9.1,\"hii\",2]\n",
        "l3=['H','E','L','L','O']\n",
        "#indexing\n",
        "print(\"--INDEXING\")\n",
        "print(l1[2])\n",
        "print(l2[1])\n",
        "print(l3[4])\n",
        "#slicing\n",
        "print(\"--SLICING\")\n",
        "print(l1[1:3])\n",
        "print(l3[::-1])\n",
        "print(l2[0:2:1])"
      ],
      "metadata": {
        "colab": {
          "base_uri": "https://localhost:8080/"
        },
        "id": "sVvW3VO109JR",
        "outputId": "e14324d6-fa74-4ecc-865a-9a05d8d01fdd"
      },
      "execution_count": null,
      "outputs": [
        {
          "output_type": "stream",
          "name": "stdout",
          "text": [
            "--INDEXING\n",
            "3\n",
            "hii\n",
            "O\n",
            "--SLICING\n",
            "[2, 3]\n",
            "['O', 'L', 'L', 'E', 'H']\n",
            "[9.1, 'hii']\n"
          ]
        }
      ]
    },
    {
      "cell_type": "code",
      "source": [
        ""
      ],
      "metadata": {
        "id": "9TEMopQ_2qHS"
      },
      "execution_count": null,
      "outputs": []
    },
    {
      "cell_type": "markdown",
      "source": [
        "15.Predict the output for the given code snippet and justify the result."
      ],
      "metadata": {
        "id": "SzBsmA0n1Ei1"
      }
    },
    {
      "cell_type": "code",
      "source": [
        "print('A series of characters designated as one object known as a string'[::-1][4::3])\n",
        "print(\"--------------------------\")\n",
        "print('Welcome to python traing program'[3:10][::-1])\n",
        "\n",
        "#str1----->initially it will reverse the string then it will start from 4th index will skip with step value 3 nd print\n",
        "#-------------------------------------------------------------\n",
        "#str2------>initilly it will strat from 3rd index untill 10th nd then reverse"
      ],
      "metadata": {
        "colab": {
          "base_uri": "https://localhost:8080/"
        },
        "id": "Pl3ZVOER2c1X",
        "outputId": "465ae6db-9299-4590-edd3-891c481203c6"
      },
      "execution_count": 20,
      "outputs": [
        {
          "output_type": "stream",
          "name": "stdout",
          "text": [
            "taawkcbe  tgestrcoeeA\n",
            "--------------------------\n",
            "ot emoc\n"
          ]
        }
      ]
    },
    {
      "cell_type": "markdown",
      "source": [
        "16.Write a python code to get desired output ."
      ],
      "metadata": {
        "id": "6xC-Al7h22X1"
      }
    },
    {
      "cell_type": "code",
      "source": [
        "str=input(\"enter a string:  \")\n",
        "print(str)\n",
        "str1=str[::-1]\n",
        "print(str1.upper())"
      ],
      "metadata": {
        "colab": {
          "base_uri": "https://localhost:8080/"
        },
        "id": "zxCgZksi277R",
        "outputId": "ddff9859-be75-457d-c804-6b99fbc805e7"
      },
      "execution_count": 22,
      "outputs": [
        {
          "output_type": "stream",
          "name": "stdout",
          "text": [
            "enter a string:  was it a car or a cat I saw\n",
            "was it a car or a cat I saw\n",
            "WAS I TAC A RO RAC A TI SAW\n"
          ]
        }
      ]
    },
    {
      "cell_type": "markdown",
      "source": [
        "17.You are required to generate a word similar to ZOO, X and Y that denote the number of Zs and Os respectively. The generated word similar to ZOO where Y= 2 * X. Input X= 2 Output ZZOOOO Input X= 5 Output ZZZZZOOOOOOOOOO"
      ],
      "metadata": {
        "id": "XH840UbW3Xza"
      }
    },
    {
      "cell_type": "code",
      "source": [
        "x=int(input(\"enter number\"))\n",
        "print(\"the value of x is {}\".format(x))\n",
        "y=x*2\n",
        "print(\"the value of x is {}\".format(y))\n",
        "#print('Z'*x\"+\"'O'*y)\n",
        "print(\"Z\"*x,\"O\"*y,sep='')"
      ],
      "metadata": {
        "colab": {
          "base_uri": "https://localhost:8080/"
        },
        "id": "6zspznWD3c0_",
        "outputId": "e67c4605-e412-4ce9-a87d-67f0b4c0f438"
      },
      "execution_count": 24,
      "outputs": [
        {
          "output_type": "stream",
          "name": "stdout",
          "text": [
            "enter number4\n",
            "the value of x is 4\n",
            "the value of x is 8\n",
            "ZZZZOOOOOOOO\n"
          ]
        }
      ]
    }
  ]
}