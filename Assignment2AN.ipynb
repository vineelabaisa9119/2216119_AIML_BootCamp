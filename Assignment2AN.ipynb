{
  "nbformat": 4,
  "nbformat_minor": 0,
  "metadata": {
    "colab": {
      "name": "DAY2AN.ipynb",
      "provenance": [],
      "authorship_tag": "ABX9TyMOMHq9eLqa7lnXLIKSdOOI",
      "include_colab_link": true
    },
    "kernelspec": {
      "name": "python3",
      "display_name": "Python 3"
    },
    "language_info": {
      "name": "python"
    }
  },
  "cells": [
    {
      "cell_type": "markdown",
      "metadata": {
        "id": "view-in-github",
        "colab_type": "text"
      },
      "source": [
        "<a href=\"https://colab.research.google.com/github/vineelabaisa9119/2216119_AIML_BootCamp/blob/main/Assignment2AN.ipynb\" target=\"_parent\"><img src=\"https://colab.research.google.com/assets/colab-badge.svg\" alt=\"Open In Colab\"/></a>"
      ]
    },
    {
      "cell_type": "code",
      "source": [
        "#Write a python program that print respective grades of student: Grade – Outstanding for marks>=90\n",
        "\n",
        "#Grade A+ for marks >=80, <90\n",
        "\n",
        "#Grade A for marks >=70, <80\n",
        "\n",
        "#Grade B for marks >=60 and <70\n",
        "\n",
        "#<60 Grade \n",
        "\n",
        "m=int(input(\"enter marks: \"))\n",
        "if m>=90:\n",
        "  print(\"OUTSTANDING\")\n",
        "elif m>=80 and m<90:\n",
        "  print(\"A+\")\n",
        "elif m>=70 and m<80:\n",
        "  print(\"A\")\n",
        "elif m>=60 and m<70:\n",
        "  print(\"B\")\n",
        "else:\n",
        "  print(\"C\")"
      ],
      "metadata": {
        "id": "H-hEmfEqaZBE",
        "outputId": "770217b7-05b8-4779-d19f-566dad0d31bb",
        "colab": {
          "base_uri": "https://localhost:8080/"
        }
      },
      "execution_count": 1,
      "outputs": [
        {
          "output_type": "stream",
          "name": "stdout",
          "text": [
            "enter marks: 45\n",
            "C\n"
          ]
        }
      ]
    },
    {
      "cell_type": "code",
      "source": [
        "#use defined functions\n",
        "def greet(name):\n",
        "  '''this function greets a person'''\n",
        "  print(\"Hello,\"+name+\"Good morning\")\n",
        "greet(\"vinny\")"
      ],
      "metadata": {
        "id": "wUto3XMaHIcn",
        "outputId": "76b8ef24-b113-4e7c-a5b4-adaeefcd6a84",
        "colab": {
          "base_uri": "https://localhost:8080/"
        }
      },
      "execution_count": 2,
      "outputs": [
        {
          "output_type": "stream",
          "name": "stdout",
          "text": [
            "Hello,vinnyGood morning\n"
          ]
        }
      ]
    },
    {
      "cell_type": "code",
      "source": [
        "#default\n",
        "def A(a,b=1,c=2):\n",
        "  return a+b+c\n",
        "print(A(0))\n",
        "print(A(3))\n",
        "print(A(4,4,4))"
      ],
      "metadata": {
        "id": "LCf7ArdZbhtZ",
        "outputId": "6b426731-51d2-43e8-add1-b4f92f9f8fa8",
        "colab": {
          "base_uri": "https://localhost:8080/"
        }
      },
      "execution_count": 3,
      "outputs": [
        {
          "output_type": "stream",
          "name": "stdout",
          "text": [
            "3\n",
            "6\n",
            "12\n"
          ]
        }
      ]
    },
    {
      "cell_type": "code",
      "source": [
        "#KEYWORDS\n",
        "print(\"KEYWORDS\")\n",
        "def A(a,b=1,c=2):\n",
        "  return a+b+c\n",
        "print(A(a=2,b=3))\n",
        "print(A(c=3,a=1))"
      ],
      "metadata": {
        "id": "mJTdUj4zb6yO",
        "outputId": "ec149dc2-3010-4c84-ff23-f1df481dd08a",
        "colab": {
          "base_uri": "https://localhost:8080/"
        }
      },
      "execution_count": 4,
      "outputs": [
        {
          "output_type": "stream",
          "name": "stdout",
          "text": [
            "KEYWORDS\n",
            "7\n",
            "5\n"
          ]
        }
      ]
    },
    {
      "cell_type": "code",
      "source": [
        "#POSITIONAL\n",
        "def add(a,b,c):\n",
        "  return a+b+c\n",
        "print(add(10,20,30))\n",
        "print(add(10,b=20,c=30))"
      ],
      "metadata": {
        "id": "-AaKYTWycTWQ",
        "outputId": "bca6608f-df2b-48c5-ec6c-92c83d5fe27b",
        "colab": {
          "base_uri": "https://localhost:8080/"
        }
      },
      "execution_count": 5,
      "outputs": [
        {
          "output_type": "stream",
          "name": "stdout",
          "text": [
            "60\n",
            "60\n"
          ]
        }
      ]
    },
    {
      "cell_type": "code",
      "source": [
        "#arbitrary keywords\n",
        "def key_arg(**kwargs):\n",
        "  return kwargs\n",
        "my_dict=key_arg(apples=10,cherry=20,grapes=30)\n",
        "print(my_dict['apples'])\n",
        "print(my_dict)"
      ],
      "metadata": {
        "colab": {
          "base_uri": "https://localhost:8080/"
        },
        "id": "IW0r67WXIypB",
        "outputId": "6bc3e623-4d23-4cc6-8df3-0a3b6f65e3a9"
      },
      "execution_count": null,
      "outputs": [
        {
          "output_type": "stream",
          "name": "stdout",
          "text": [
            "10\n",
            "{'apples': 10, 'cherry': 20, 'grapes': 30}\n"
          ]
        }
      ]
    },
    {
      "cell_type": "code",
      "source": [
        "#arbitrary positional\n",
        "def add_num(*n):\n",
        "  print(n)\n",
        "  print(sum(n))\n",
        "\n",
        "add_num(5,11)"
      ],
      "metadata": {
        "colab": {
          "base_uri": "https://localhost:8080/"
        },
        "id": "1P8M_DKmJfbO",
        "outputId": "7e66a231-fb9c-4fd6-fd0c-e51a1798082a"
      },
      "execution_count": null,
      "outputs": [
        {
          "output_type": "stream",
          "name": "stdout",
          "text": [
            "(5, 11)\n",
            "16\n"
          ]
        }
      ]
    },
    {
      "cell_type": "code",
      "source": [
        "#higher order functions\n",
        "def shout(text):\n",
        "  return text.upper()\n",
        "\n",
        "def whisper(text):\n",
        "  return text.lower()\n",
        "\n",
        "def explain(func):\n",
        "  greet=func(\"hi,i am higher order function\")\n",
        "  print(greet)\n",
        "\n",
        "explain(shout)\n",
        "explain(whisper)"
      ],
      "metadata": {
        "colab": {
          "base_uri": "https://localhost:8080/"
        },
        "id": "sDHzoLAAKHhB",
        "outputId": "70222ef0-8d1d-4dc6-fe74-9b70008905a3"
      },
      "execution_count": null,
      "outputs": [
        {
          "output_type": "stream",
          "name": "stdout",
          "text": [
            "HI,I AM HIGHER ORDER FUNCTION\n",
            "hi,i am higher order function\n"
          ]
        }
      ]
    },
    {
      "cell_type": "code",
      "source": [
        "#lambda\n",
        "\n",
        "def incr(x):\n",
        "  x=x+1\n",
        "  return x\n",
        "print(incr(4))\n",
        "\n",
        "print((lambda x:x+1)(4))\n",
        "\n",
        "res=lambda x:x+1\n",
        "print(res(4))"
      ],
      "metadata": {
        "colab": {
          "base_uri": "https://localhost:8080/"
        },
        "id": "xN3JQofDLP9B",
        "outputId": "837a3e4c-5705-461e-fd12-be539185cf56"
      },
      "execution_count": null,
      "outputs": [
        {
          "output_type": "stream",
          "name": "stdout",
          "text": [
            "5\n",
            "5\n",
            "5\n"
          ]
        }
      ]
    },
    {
      "cell_type": "code",
      "source": [
        "print((lambda x,y:x**y)(2,2))\n",
        "print((lambda x,y:x+y)(2,3))\n",
        "\n",
        "res=lambda x,y:x+y\n",
        "print(res(2,3))"
      ],
      "metadata": {
        "colab": {
          "base_uri": "https://localhost:8080/"
        },
        "id": "e0rogNJ7L5pz",
        "outputId": "e21ca0c6-bfe7-4526-cdc7-f2369f89e3f1"
      },
      "execution_count": null,
      "outputs": [
        {
          "output_type": "stream",
          "name": "stdout",
          "text": [
            "4\n",
            "5\n",
            "5\n"
          ]
        }
      ]
    },
    {
      "cell_type": "code",
      "source": [
        "li=[1,2,3,4,5]\n",
        "#res=lambda x:x+2\n",
        "#print(res(li))"
      ],
      "metadata": {
        "id": "8-tO1f3SMZF2"
      },
      "execution_count": null,
      "outputs": []
    },
    {
      "cell_type": "code",
      "source": [
        "def inc(num):\n",
        "  return num+2\n",
        "res_list=list(map(inc,li))\n",
        "print(res_list)\n",
        "\n",
        "res_listl=list(map(lambda x:x+2,li))\n",
        "print(res_list)\n",
        "\n",
        "print(list(map(lambda x:x+2,li)))"
      ],
      "metadata": {
        "colab": {
          "base_uri": "https://localhost:8080/"
        },
        "id": "1rTUk7OyMrjE",
        "outputId": "bce866f6-9fd7-48b0-a965-3b55be33c7e1"
      },
      "execution_count": null,
      "outputs": [
        {
          "output_type": "stream",
          "name": "stdout",
          "text": [
            "[3, 4, 5, 6, 7]\n",
            "[3, 4, 5, 6, 7]\n",
            "[3, 4, 5, 6, 7]\n"
          ]
        }
      ]
    },
    {
      "cell_type": "code",
      "source": [
        "def eor(num):\n",
        "  if num%2==0:\n",
        "    return \"the number {} is even\".format(num)\n",
        "  else:\n",
        "    return \"the number {} is odd\".format(num)\n",
        "eor(20)"
      ],
      "metadata": {
        "colab": {
          "base_uri": "https://localhost:8080/",
          "height": 36
        },
        "id": "tr3HWS3mNrpL",
        "outputId": "789608c4-4c66-4efc-900b-e4cd91bb222f"
      },
      "execution_count": null,
      "outputs": [
        {
          "output_type": "execute_result",
          "data": {
            "text/plain": [
              "'the number 20 is even'"
            ],
            "application/vnd.google.colaboratory.intrinsic+json": {
              "type": "string"
            }
          },
          "metadata": {},
          "execution_count": 10
        }
      ]
    },
    {
      "cell_type": "code",
      "source": [
        "l=[1,2,3,4,5,6,7,8,9,10]\n",
        "list(map(eor,l))"
      ],
      "metadata": {
        "colab": {
          "base_uri": "https://localhost:8080/"
        },
        "id": "w7D8KY3VOKy_",
        "outputId": "9aece57c-1ce5-4d0e-e23e-877e80fb892c"
      },
      "execution_count": null,
      "outputs": [
        {
          "output_type": "execute_result",
          "data": {
            "text/plain": [
              "['the number 1 is odd',\n",
              " 'the number 2 is even',\n",
              " 'the number 3 is odd',\n",
              " 'the number 4 is even',\n",
              " 'the number 5 is odd',\n",
              " 'the number 6 is even',\n",
              " 'the number 7 is odd',\n",
              " 'the number 8 is even',\n",
              " 'the number 9 is odd',\n",
              " 'the number 10 is even']"
            ]
          },
          "metadata": {},
          "execution_count": 12
        }
      ]
    },
    {
      "cell_type": "code",
      "source": [
        "li=['apple','banana','grapes']\n",
        "r=list(map(lambda x:x.capitalize(),li))\n",
        "print(r)"
      ],
      "metadata": {
        "colab": {
          "base_uri": "https://localhost:8080/"
        },
        "id": "V4dEsjzQObFC",
        "outputId": "d0276641-b261-4a21-cd0d-51519f69e249"
      },
      "execution_count": null,
      "outputs": [
        {
          "output_type": "stream",
          "name": "stdout",
          "text": [
            "['Apple', 'Banana', 'Grapes']\n"
          ]
        }
      ]
    },
    {
      "cell_type": "code",
      "source": [
        "#filter\n",
        "def odd_num(n):\n",
        "  if n%2!=0:\n",
        "    return n\n",
        "my_list=[9,26,35,-2,50]\n",
        "print(list(filter(odd_num,my_list)))\n",
        "\n",
        "my_list=[18,94,33,16,99,22,56,107,34]\n",
        "temp=list(filter(lambda x:x%2==0,my_list))\n",
        "print(temp)\n"
      ],
      "metadata": {
        "colab": {
          "base_uri": "https://localhost:8080/"
        },
        "id": "o7K6Q9-yPJv8",
        "outputId": "8bb1fd1e-b611-44a4-911e-870189becbd4"
      },
      "execution_count": null,
      "outputs": [
        {
          "output_type": "stream",
          "name": "stdout",
          "text": [
            "[9, 35]\n",
            "[18, 94, 16, 22, 56, 34]\n"
          ]
        }
      ]
    },
    {
      "cell_type": "code",
      "source": [
        "#MODULES\n",
        "import os\n",
        "os.mkdir(\"hi\")\n",
        "os.chdir(\"hi\")\n",
        "os.getcwd()\n",
        "os.listdir()\n",
        "os.rmdir()\n"
      ],
      "metadata": {
        "colab": {
          "base_uri": "https://localhost:8080/",
          "height": 235
        },
        "id": "8gJLVQlCWAR8",
        "outputId": "1e62f1f4-35a9-41cd-c7b3-86677e6139f2"
      },
      "execution_count": null,
      "outputs": [
        {
          "output_type": "error",
          "ename": "FileExistsError",
          "evalue": "ignored",
          "traceback": [
            "\u001b[0;31m---------------------------------------------------------------------------\u001b[0m",
            "\u001b[0;31mFileExistsError\u001b[0m                           Traceback (most recent call last)",
            "\u001b[0;32m<ipython-input-17-715bed8510ca>\u001b[0m in \u001b[0;36m<module>\u001b[0;34m()\u001b[0m\n\u001b[1;32m      1\u001b[0m \u001b[0;31m#MODULES\u001b[0m\u001b[0;34m\u001b[0m\u001b[0;34m\u001b[0m\u001b[0;34m\u001b[0m\u001b[0m\n\u001b[1;32m      2\u001b[0m \u001b[0;32mimport\u001b[0m \u001b[0mos\u001b[0m\u001b[0;34m\u001b[0m\u001b[0;34m\u001b[0m\u001b[0m\n\u001b[0;32m----> 3\u001b[0;31m \u001b[0mos\u001b[0m\u001b[0;34m.\u001b[0m\u001b[0mmkdir\u001b[0m\u001b[0;34m(\u001b[0m\u001b[0;34m\"hi\"\u001b[0m\u001b[0;34m)\u001b[0m\u001b[0;34m\u001b[0m\u001b[0;34m\u001b[0m\u001b[0m\n\u001b[0m\u001b[1;32m      4\u001b[0m \u001b[0mos\u001b[0m\u001b[0;34m.\u001b[0m\u001b[0mchdir\u001b[0m\u001b[0;34m(\u001b[0m\u001b[0;34m\"hi\"\u001b[0m\u001b[0;34m)\u001b[0m\u001b[0;34m\u001b[0m\u001b[0;34m\u001b[0m\u001b[0m\n\u001b[1;32m      5\u001b[0m \u001b[0mos\u001b[0m\u001b[0;34m.\u001b[0m\u001b[0mgetcwd\u001b[0m\u001b[0;34m(\u001b[0m\u001b[0;34m)\u001b[0m\u001b[0;34m\u001b[0m\u001b[0;34m\u001b[0m\u001b[0m\n",
            "\u001b[0;31mFileExistsError\u001b[0m: [Errno 17] File exists: 'hi'"
          ]
        }
      ]
    },
    {
      "cell_type": "code",
      "source": [
        "#math modules\n",
        "import math as m\n",
        "print(m.pi)\n",
        "print(m.e)\n",
        "print(m.sqrt(4))\n",
        "print(m.factorial(5))\n",
        "print(m.pow(2,2))\n",
        "print(m.floor(1.4))\n",
        "print(m.tan(5))\n",
        "print(m.log(2))\n"
      ],
      "metadata": {
        "colab": {
          "base_uri": "https://localhost:8080/"
        },
        "id": "llrqvtGcWsX_",
        "outputId": "701d9746-c4ae-4f21-a823-e38a73a117f7"
      },
      "execution_count": null,
      "outputs": [
        {
          "output_type": "stream",
          "name": "stdout",
          "text": [
            "3.141592653589793\n",
            "2.718281828459045\n",
            "2.0\n",
            "120\n",
            "4.0\n",
            "1\n",
            "-3.380515006246586\n",
            "0.6931471805599453\n"
          ]
        }
      ]
    },
    {
      "cell_type": "code",
      "source": [
        "#sys m0dule\n",
        "import sys\n",
        "print(sys.path)\n",
        "print(sys.version)\n",
        "print(sys.maxsize)"
      ],
      "metadata": {
        "colab": {
          "base_uri": "https://localhost:8080/"
        },
        "id": "8R00RF-WXpex",
        "outputId": "e29298e9-568c-4766-8558-d7d520baa16b"
      },
      "execution_count": null,
      "outputs": [
        {
          "output_type": "stream",
          "name": "stdout",
          "text": [
            "['', '/content', '/env/python', '/usr/lib/python37.zip', '/usr/lib/python3.7', '/usr/lib/python3.7/lib-dynload', '/usr/local/lib/python3.7/dist-packages', '/usr/lib/python3/dist-packages', '/usr/local/lib/python3.7/dist-packages/IPython/extensions', '/root/.ipython']\n",
            "3.7.13 (default, Apr 24 2022, 01:04:09) \n",
            "[GCC 7.5.0]\n",
            "9223372036854775807\n"
          ]
        }
      ]
    },
    {
      "cell_type": "code",
      "source": [
        "#statistics module\n",
        "import statistics as st\n",
        "print(st.mean([21,29,34]))\n",
        "print(st.median([2,3,4,5,6]))\n",
        "print(st.mode([2,1,5,6,1,1]))"
      ],
      "metadata": {
        "colab": {
          "base_uri": "https://localhost:8080/"
        },
        "id": "f6nL6FBEX82e",
        "outputId": "8c60e53a-75cd-4d56-8aad-600771bc1cd9"
      },
      "execution_count": null,
      "outputs": [
        {
          "output_type": "stream",
          "name": "stdout",
          "text": [
            "28\n",
            "4\n",
            "1\n"
          ]
        }
      ]
    },
    {
      "cell_type": "code",
      "source": [
        "#time module\n",
        "import time\n",
        "print(time.time())\n",
        "print(time.localtime())\n",
        "print(time.time())\n",
        "print(time.time())"
      ],
      "metadata": {
        "id": "03Aki19PYnVH"
      },
      "execution_count": null,
      "outputs": []
    },
    {
      "cell_type": "code",
      "source": [
        "#random module\n",
        "import random\n",
        "print(random.randrange(1,50))#1to49\n",
        "print(random.randint(1,100))#1to100\n",
        "print(random.random())"
      ],
      "metadata": {
        "colab": {
          "base_uri": "https://localhost:8080/"
        },
        "id": "KkeT8rP-ZAbU",
        "outputId": "533a9fd9-643f-44e1-8802-8aec68516f25"
      },
      "execution_count": null,
      "outputs": [
        {
          "output_type": "stream",
          "name": "stdout",
          "text": [
            "46\n",
            "87\n",
            "0.8392893211081727\n"
          ]
        }
      ]
    },
    {
      "cell_type": "code",
      "source": [
        "import random\n",
        "g_num=random.randint(0,5)\n",
        "g2_num=int(input(\"\"))"
      ],
      "metadata": {
        "id": "l4mWI7aEZ9wC"
      },
      "execution_count": null,
      "outputs": []
    },
    {
      "cell_type": "markdown",
      "source": [
        "Write a python program that remove items that are multiples of 5 from list: li=[1,2,5,6,7,10,15,25,65,78,90] o/p: [1,2,6,7,78]"
      ],
      "metadata": {
        "id": "Xoj4IWF8hWTJ"
      }
    },
    {
      "cell_type": "code",
      "source": [
        " li=[1,2,5,6,7,10,15,25,65,78,90]\n",
        " l2=[]\n",
        " for i in li:\n",
        "   if i%5!=0:\n",
        "     l2.append(i)\n",
        "print(l2)"
      ],
      "metadata": {
        "colab": {
          "base_uri": "https://localhost:8080/"
        },
        "id": "0e8RsYa9h0Sr",
        "outputId": "9717fb7b-d81c-4181-ecc1-527595d454be"
      },
      "execution_count": null,
      "outputs": [
        {
          "output_type": "stream",
          "name": "stdout",
          "text": [
            "[1, 2, 6, 7, 78]\n"
          ]
        }
      ]
    },
    {
      "cell_type": "code",
      "source": [
        "li=[1,2,5,6,7,10,15,25,65,78,90]\n",
        "res=list(filter(lambda x:x%5!=0,li)) \n",
        "print(res)"
      ],
      "metadata": {
        "colab": {
          "base_uri": "https://localhost:8080/"
        },
        "id": "jQg9xPsjkiuk",
        "outputId": "10960fc6-ecb4-44fb-95e4-23d5f6fc8110"
      },
      "execution_count": null,
      "outputs": [
        {
          "output_type": "stream",
          "name": "stdout",
          "text": [
            "[1, 2, 6, 7, 78]\n"
          ]
        }
      ]
    },
    {
      "cell_type": "markdown",
      "source": [
        "Write a python program that generates desired output from fruits list. Filter out the fruits names that don’t start with ‘A’ Fruit=[“Apple”,”Banana”,”Pear”,”Avacado”,”Orange”,”Amla”] Output: [“Apple”,”Avacado”,”Amla”]"
      ],
      "metadata": {
        "id": "e7ezUQmqlZPg"
      }
    },
    {
      "cell_type": "code",
      "source": [
        " Fruit=['Apple','Banana','Pear','Avacado','Orange','Amla']\n",
        " l=[]\n",
        " for i in Fruit:\n",
        "   if i.startswith('A'):\n",
        "     l.append(i)\n",
        "print(l)"
      ],
      "metadata": {
        "colab": {
          "base_uri": "https://localhost:8080/"
        },
        "id": "5qr6Rb0Tkr4b",
        "outputId": "6688cf1f-3408-4178-bbf5-d95814fd3094"
      },
      "execution_count": null,
      "outputs": [
        {
          "output_type": "stream",
          "name": "stdout",
          "text": [
            "['Apple', 'Avacado', 'Amla']\n"
          ]
        }
      ]
    },
    {
      "cell_type": "code",
      "source": [
        "fruit=[\"Apple\",\"Banana\",\"Pear\",\"Avacado\",\"Orange\",\"Amla\"] \n",
        "res=list(filter(lambda x:x.startswith('A'),fruit)) \n",
        "print(res)"
      ],
      "metadata": {
        "colab": {
          "base_uri": "https://localhost:8080/"
        },
        "id": "t5aqp8SUnUse",
        "outputId": "61000bc3-4ea1-489c-b6bf-0b8cc11d01fe"
      },
      "execution_count": null,
      "outputs": [
        {
          "output_type": "stream",
          "name": "stdout",
          "text": [
            "['Apple', 'Avacado', 'Amla']\n"
          ]
        }
      ]
    },
    {
      "cell_type": "markdown",
      "source": [
        "Mssg=”Welcome to gradstellar bootcamp” X=”number of occurrences of ‘o’ in mssg” Y=”number of occurrences of ‘e’ in mssg” Compute (X+Y)2"
      ],
      "metadata": {
        "id": "DgGxyl5Wnt1p"
      }
    },
    {
      "cell_type": "code",
      "source": [
        "#Mssg=”Welcome to gradstellar bootcamp” \n",
        "#X=”number of occurrences of ‘o’ in mssg”\n",
        "#Y=”number of occurrences of ‘e’ in mssg” \n",
        "#Compute (X+Y)2\n",
        "\n",
        "mssg='Welcome to gradstellar bootcamp'\n",
        "x=mssg.count('0')\n",
        "y=mssg.count('e')\n",
        "print(x,y)\n",
        "print((x+y)**2)\n",
        "\n"
      ],
      "metadata": {
        "colab": {
          "base_uri": "https://localhost:8080/"
        },
        "id": "KuVbuFSKn35s",
        "outputId": "1016b7f8-06d5-4c3d-b760-48fd14ee586a"
      },
      "execution_count": null,
      "outputs": [
        {
          "output_type": "stream",
          "name": "stdout",
          "text": [
            "0 3\n",
            "9\n"
          ]
        }
      ]
    },
    {
      "cell_type": "markdown",
      "source": [
        "Write python program that filters a list by removing the elements that not start with vowel. I/P: [‘apple’,’orange’,’grapes’,’ball’,’bat’,’umbrella’] O/P: [‘apple’,’orange’,’umbrella’]"
      ],
      "metadata": {
        "id": "4PmLJar-r5aO"
      }
    },
    {
      "cell_type": "code",
      "source": [
        "s=['apple','orange','grapes','ball','bat','umbrella']\n",
        "res=list(filter(lambda x:x[0] in ['a','e','i','o','u'],s))\n",
        "print(res)"
      ],
      "metadata": {
        "colab": {
          "base_uri": "https://localhost:8080/"
        },
        "id": "gZYVOpJhr7oT",
        "outputId": "0732967f-835e-4197-ae74-1b70e831d377"
      },
      "execution_count": null,
      "outputs": [
        {
          "output_type": "stream",
          "name": "stdout",
          "text": [
            "['apple', 'orange', 'umbrella']\n"
          ]
        }
      ]
    },
    {
      "cell_type": "markdown",
      "source": [
        "Write a python program that displays unique element in a given list using function Li=[56,78,32,45,45,45,19,20]\n",
        "\n",
        "O/P: [56,78,32,45,19,20]"
      ],
      "metadata": {
        "id": "odDrlPL8cwhZ"
      }
    },
    {
      "cell_type": "code",
      "source": [
        "Li=[56,78,32,45,45,45,19,20]\n",
        "print(set(Li))"
      ],
      "metadata": {
        "id": "xY3iQOiUcyA5",
        "outputId": "fe58d485-4815-4785-af9c-f2ddc7c4445f",
        "colab": {
          "base_uri": "https://localhost:8080/"
        }
      },
      "execution_count": 6,
      "outputs": [
        {
          "output_type": "stream",
          "name": "stdout",
          "text": [
            "{32, 45, 78, 19, 20, 56}\n"
          ]
        }
      ]
    },
    {
      "cell_type": "code",
      "source": [
        ""
      ],
      "metadata": {
        "id": "HsW0gJuwc8Vj"
      },
      "execution_count": null,
      "outputs": []
    }
  ]
}