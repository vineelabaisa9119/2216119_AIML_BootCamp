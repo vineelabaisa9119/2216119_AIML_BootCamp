{
  "nbformat": 4,
  "nbformat_minor": 0,
  "metadata": {
    "colab": {
      "name": "day2.ipynb",
      "provenance": [],
      "authorship_tag": "ABX9TyMU+vfMzAnrPJ//dzPZ/9xN",
      "include_colab_link": true
    },
    "kernelspec": {
      "name": "python3",
      "display_name": "Python 3"
    },
    "language_info": {
      "name": "python"
    }
  },
  "cells": [
    {
      "cell_type": "markdown",
      "metadata": {
        "id": "view-in-github",
        "colab_type": "text"
      },
      "source": [
        "<a href=\"https://colab.research.google.com/github/vineelabaisa9119/2216119_AIML_BootCamp/blob/main/Assignment2FN.ipynb\" target=\"_parent\"><img src=\"https://colab.research.google.com/assets/colab-badge.svg\" alt=\"Open In Colab\"/></a>"
      ]
    },
    {
      "cell_type": "code",
      "source": [
        "#if statement\n",
        "var=100\n",
        "if var>0:\n",
        "  print(\"true\")\n",
        "  print(var)\n",
        "\n",
        "  var1=0\n",
        "  if var1>0:\n",
        "     print(\"True\")\n",
        "  print(var1)\n"
      ],
      "metadata": {
        "colab": {
          "base_uri": "https://localhost:8080/"
        },
        "id": "G8U6kXK-NH6w",
        "outputId": "5eb8d719-16f4-4fc4-98ef-430d3eddb29f"
      },
      "execution_count": null,
      "outputs": [
        {
          "output_type": "stream",
          "name": "stdout",
          "text": [
            "true\n",
            "100\n",
            "0\n"
          ]
        }
      ]
    },
    {
      "cell_type": "code",
      "source": [
        "#if....else statement\n",
        "var2=-1\n",
        "if var2>0:\n",
        "  print(\"True\")\n",
        "  print(var2)\n",
        "else:\n",
        "     print(\"False\")\n",
        "     print(var2)"
      ],
      "metadata": {
        "colab": {
          "base_uri": "https://localhost:8080/"
        },
        "id": "kJv8zTcGN655",
        "outputId": "b6e4c7e4-931e-40fd-e7f0-32dc3c766b97"
      },
      "execution_count": null,
      "outputs": [
        {
          "output_type": "stream",
          "name": "stdout",
          "text": [
            "False\n",
            "-1\n"
          ]
        }
      ]
    },
    {
      "cell_type": "code",
      "source": [
        "#nested if statements\n",
        "#bus tickets\n",
        "print(\"NESTED IF\")\n",
        "print(\"BUS TICKET\")\n",
        "age=int(input(\"enter age: \"))\n",
        "if age>12 and age<=18:\n",
        "  if age<15:\n",
        "    print(\"Quarter ticket\")\n",
        "  elif age==15:\n",
        "    print(\"Quarter ticket+discount\")\n",
        "  else:\n",
        "    print(\"Half ticket\")\n",
        "elif age>=19 and age<=60:\n",
        "  print(\"Full Ticket\")\n",
        "elif age>60:\n",
        "  print(\"Full Ticket + discount\")\n",
        "else:\n",
        "  print(\"no ticket\")"
      ],
      "metadata": {
        "id": "hoax9C9RPeI7",
        "outputId": "285881e2-78c7-47a4-ce0a-ca7342c56bc4",
        "colab": {
          "base_uri": "https://localhost:8080/"
        }
      },
      "execution_count": 1,
      "outputs": [
        {
          "output_type": "stream",
          "name": "stdout",
          "text": [
            "NESTED IF\n",
            "BUS TICKET\n",
            "enter age: 36\n",
            "Full Ticket\n"
          ]
        }
      ]
    },
    {
      "cell_type": "code",
      "source": [
        "#for loop\n",
        "number=[6,5,3,8,4,2,5,4,11]\n",
        "sum=0\n",
        "for val in number:\n",
        "  sum=sum+val\n",
        "print(\"the sum is\",sum)\n",
        "\n",
        "print(\"\\n\")\n",
        "\n",
        "for i in range(1,11):\n",
        "  print(i)\n",
        "\n",
        "  print(\"\\n\")\n",
        "\n",
        "  for i in range(1,11,2):\n",
        "    print(i)\n",
        "\n",
        "    print(\"\\n\")\n",
        "\n",
        "x=[2,3,4,5,6,7,8]\n",
        "y=[]\n",
        "for a in x:\n",
        "  if a%2==0:\n",
        "     y.append(a)\n",
        "print(y)\n",
        "\n",
        "print(\"\\n\")\n",
        "\n",
        "#using statements in for loop\n",
        "digits=[0,1,5]\n",
        "for i in digits:\n",
        "  print(i)\n",
        "else:\n",
        "  print(\"no items left\")\n",
        "\n",
        "  print(\"\\n\")\n",
        "\n",
        "  for l in \"python\":\n",
        "    print(\"current letter:\",1)\n",
        "\n",
        "  print(\"\\n\")\n",
        "\n",
        "#iteration by sequence indexing\n",
        "fruit=['apple','mango','cherry']\n",
        "for index in range(len(fruit)):\n",
        "  print('current fruit:',fruit[index])"
      ],
      "metadata": {
        "colab": {
          "base_uri": "https://localhost:8080/"
        },
        "id": "nSE_WquRQZg8",
        "outputId": "4f34b8b0-e418-416a-a0c3-f77cc81b321e"
      },
      "execution_count": null,
      "outputs": [
        {
          "output_type": "stream",
          "name": "stdout",
          "text": [
            "the sum is 48\n",
            "\n",
            "\n",
            "1\n",
            "\n",
            "\n",
            "1\n",
            "\n",
            "\n",
            "3\n",
            "\n",
            "\n",
            "5\n",
            "\n",
            "\n",
            "7\n",
            "\n",
            "\n",
            "9\n",
            "\n",
            "\n",
            "2\n",
            "\n",
            "\n",
            "1\n",
            "\n",
            "\n",
            "3\n",
            "\n",
            "\n",
            "5\n",
            "\n",
            "\n",
            "7\n",
            "\n",
            "\n",
            "9\n",
            "\n",
            "\n",
            "3\n",
            "\n",
            "\n",
            "1\n",
            "\n",
            "\n",
            "3\n",
            "\n",
            "\n",
            "5\n",
            "\n",
            "\n",
            "7\n",
            "\n",
            "\n",
            "9\n",
            "\n",
            "\n",
            "4\n",
            "\n",
            "\n",
            "1\n",
            "\n",
            "\n",
            "3\n",
            "\n",
            "\n",
            "5\n",
            "\n",
            "\n",
            "7\n",
            "\n",
            "\n",
            "9\n",
            "\n",
            "\n",
            "5\n",
            "\n",
            "\n",
            "1\n",
            "\n",
            "\n",
            "3\n",
            "\n",
            "\n",
            "5\n",
            "\n",
            "\n",
            "7\n",
            "\n",
            "\n",
            "9\n",
            "\n",
            "\n",
            "6\n",
            "\n",
            "\n",
            "1\n",
            "\n",
            "\n",
            "3\n",
            "\n",
            "\n",
            "5\n",
            "\n",
            "\n",
            "7\n",
            "\n",
            "\n",
            "9\n",
            "\n",
            "\n",
            "7\n",
            "\n",
            "\n",
            "1\n",
            "\n",
            "\n",
            "3\n",
            "\n",
            "\n",
            "5\n",
            "\n",
            "\n",
            "7\n",
            "\n",
            "\n",
            "9\n",
            "\n",
            "\n",
            "8\n",
            "\n",
            "\n",
            "1\n",
            "\n",
            "\n",
            "3\n",
            "\n",
            "\n",
            "5\n",
            "\n",
            "\n",
            "7\n",
            "\n",
            "\n",
            "9\n",
            "\n",
            "\n",
            "9\n",
            "\n",
            "\n",
            "1\n",
            "\n",
            "\n",
            "3\n",
            "\n",
            "\n",
            "5\n",
            "\n",
            "\n",
            "7\n",
            "\n",
            "\n",
            "9\n",
            "\n",
            "\n",
            "10\n",
            "\n",
            "\n",
            "1\n",
            "\n",
            "\n",
            "3\n",
            "\n",
            "\n",
            "5\n",
            "\n",
            "\n",
            "7\n",
            "\n",
            "\n",
            "9\n",
            "\n",
            "\n",
            "[2, 4, 6, 8]\n",
            "\n",
            "\n",
            "0\n",
            "1\n",
            "5\n",
            "no items left\n",
            "\n",
            "\n",
            "current letter: 1\n",
            "current letter: 1\n",
            "current letter: 1\n",
            "current letter: 1\n",
            "current letter: 1\n",
            "current letter: 1\n",
            "\n",
            "\n",
            "current fruit: apple\n",
            "current fruit: mango\n",
            "current fruit: cherry\n"
          ]
        }
      ]
    },
    {
      "cell_type": "code",
      "source": [
        "#while\n",
        "count=0\n",
        "while(count<11):\n",
        "  print('the count is',count)\n",
        "  count=count+1\n",
        "\n",
        "count=0\n",
        "while(count<5):\n",
        "  print(count,\"is less than 5\")\n",
        "  count=count+1\n",
        "else:\n",
        "  print(count,\"is not less than 5\")"
      ],
      "metadata": {
        "colab": {
          "base_uri": "https://localhost:8080/"
        },
        "id": "ybr4skPfUNSK",
        "outputId": "d028c6ee-08da-4260-926f-455f91e38459"
      },
      "execution_count": null,
      "outputs": [
        {
          "output_type": "stream",
          "name": "stdout",
          "text": [
            "the count is 0\n",
            "the count is 1\n",
            "the count is 2\n",
            "the count is 3\n",
            "the count is 4\n",
            "the count is 5\n",
            "the count is 6\n",
            "the count is 7\n",
            "the count is 8\n",
            "the count is 9\n",
            "the count is 10\n",
            "0 is less than 5\n",
            "1 is less than 5\n",
            "2 is less than 5\n",
            "3 is less than 5\n",
            "4 is less than 5\n",
            "5 is not less than 5\n"
          ]
        }
      ]
    },
    {
      "cell_type": "code",
      "source": [
        ""
      ],
      "metadata": {
        "id": "23ZBk6uZihmS"
      },
      "execution_count": null,
      "outputs": []
    },
    {
      "cell_type": "code",
      "source": [
        "#nested loops\n",
        "\n",
        "X=[[12,7,3],\n",
        "   [4,5,6],\n",
        "   [7,8,9]]\n",
        "\n",
        "Y=[[5,8,1],[1,1,0],[5,3,7]]\n",
        "\n",
        "res=[[0,0,0],[0,0,0],[0,0,0]]\n",
        "\n",
        "for i in range(len(X)):\n",
        "  for j in range(len(X[0])):\n",
        "    res[i][j]=X[i][j]+Y[i][j]\n",
        "for  r in res:\n",
        "  print(r)\n",
        "\n",
        "print(\"\\n\")\n",
        "\n",
        "X=[[12,7,3],\n",
        "   [4,5,6],\n",
        "   [7,8,9]]\n",
        "\n",
        "Y=[[5,8,1],[1,1,0],[5,3,7]]\n",
        "\n",
        "res=[[0,0,0],[0,0,0],[0,0,0]]\n",
        "\n",
        "for i in range(len(X)):\n",
        "  for j in range(len(X[0])):\n",
        "    res[i][j]=X[i][j]*Y[i][j]\n",
        "for  r in res:\n",
        "  print(r)\n",
        "\n",
        "print(\"\\n\")\n",
        "\n",
        "X=[[12,7,3],\n",
        "   [4,5,6],\n",
        "   [7,8,9]]\n",
        "\n",
        "Y=[[5,8,1],[1,1,0],[5,3,7]]\n",
        "\n",
        "res=[[0,0,0],[0,0,0],[0,0,0]]\n",
        "\n",
        "for i in range(len(X)):\n",
        "  for j in range(len(X[0])):\n",
        "    res[i][j]=X[i][j]-Y[i][j]\n",
        "for  r in res:\n",
        "  print(r)\n",
        "\n",
        "\n"
      ],
      "metadata": {
        "colab": {
          "base_uri": "https://localhost:8080/"
        },
        "id": "WJnLLntvXM_7",
        "outputId": "35d6ab55-b915-4cdb-e0e6-8ed023e3ea02"
      },
      "execution_count": null,
      "outputs": [
        {
          "output_type": "stream",
          "name": "stdout",
          "text": [
            "[17, 15, 4]\n",
            "[5, 6, 6]\n",
            "[12, 11, 16]\n",
            "\n",
            "\n",
            "[60, 56, 3]\n",
            "[4, 5, 0]\n",
            "[35, 24, 63]\n",
            "\n",
            "\n",
            "[7, -1, 2]\n",
            "[3, 4, 6]\n",
            "[2, 5, 2]\n"
          ]
        }
      ]
    },
    {
      "cell_type": "code",
      "source": [
        "num=int(input(\"ENTER TILL WHICH TABLE YOU WANT TO PRINT\"))\n",
        "i=1\n",
        "while(i<num):\n",
        "  print(f\"TABLE {i}\") #rawstring\n",
        "  j=1\n",
        "  while(j<10):\n",
        "    print(f\"{i}*{j}={i*j}\")\n",
        "    j=j+1\n",
        "  print(\"__________________________________\")\n",
        "  i=i+1"
      ],
      "metadata": {
        "colab": {
          "base_uri": "https://localhost:8080/"
        },
        "id": "JqFmivDTZlPz",
        "outputId": "d84242f2-c3a9-4bca-e452-0d050aa148ce"
      },
      "execution_count": null,
      "outputs": [
        {
          "output_type": "stream",
          "name": "stdout",
          "text": [
            "ENTER TILL WHICH TABLE YOU WANT TO PRINT10\n",
            "TABLE 1\n",
            "1*1=1\n",
            "1*2=2\n",
            "1*3=3\n",
            "1*4=4\n",
            "1*5=5\n",
            "1*6=6\n",
            "1*7=7\n",
            "1*8=8\n",
            "1*9=9\n",
            "__________________________________\n",
            "TABLE 2\n",
            "2*1=2\n",
            "2*2=4\n",
            "2*3=6\n",
            "2*4=8\n",
            "2*5=10\n",
            "2*6=12\n",
            "2*7=14\n",
            "2*8=16\n",
            "2*9=18\n",
            "__________________________________\n",
            "TABLE 3\n",
            "3*1=3\n",
            "3*2=6\n",
            "3*3=9\n",
            "3*4=12\n",
            "3*5=15\n",
            "3*6=18\n",
            "3*7=21\n",
            "3*8=24\n",
            "3*9=27\n",
            "__________________________________\n",
            "TABLE 4\n",
            "4*1=4\n",
            "4*2=8\n",
            "4*3=12\n",
            "4*4=16\n",
            "4*5=20\n",
            "4*6=24\n",
            "4*7=28\n",
            "4*8=32\n",
            "4*9=36\n",
            "__________________________________\n",
            "TABLE 5\n",
            "5*1=5\n",
            "5*2=10\n",
            "5*3=15\n",
            "5*4=20\n",
            "5*5=25\n",
            "5*6=30\n",
            "5*7=35\n",
            "5*8=40\n",
            "5*9=45\n",
            "__________________________________\n",
            "TABLE 6\n",
            "6*1=6\n",
            "6*2=12\n",
            "6*3=18\n",
            "6*4=24\n",
            "6*5=30\n",
            "6*6=36\n",
            "6*7=42\n",
            "6*8=48\n",
            "6*9=54\n",
            "__________________________________\n",
            "TABLE 7\n",
            "7*1=7\n",
            "7*2=14\n",
            "7*3=21\n",
            "7*4=28\n",
            "7*5=35\n",
            "7*6=42\n",
            "7*7=49\n",
            "7*8=56\n",
            "7*9=63\n",
            "__________________________________\n",
            "TABLE 8\n",
            "8*1=8\n",
            "8*2=16\n",
            "8*3=24\n",
            "8*4=32\n",
            "8*5=40\n",
            "8*6=48\n",
            "8*7=56\n",
            "8*8=64\n",
            "8*9=72\n",
            "__________________________________\n",
            "TABLE 9\n",
            "9*1=9\n",
            "9*2=18\n",
            "9*3=27\n",
            "9*4=36\n",
            "9*5=45\n",
            "9*6=54\n",
            "9*7=63\n",
            "9*8=72\n",
            "9*9=81\n",
            "__________________________________\n"
          ]
        }
      ]
    },
    {
      "cell_type": "code",
      "source": [
        "#control statements\n",
        "#break\n",
        "\n",
        "for l in 'python':\n",
        "  if l == 'h':\n",
        "    break\n",
        "  print(\"current letter:\",l) \n",
        "\n",
        "  print(\"\\n\")\n",
        "\n",
        "intl=10\n",
        "while(intl>0):\n",
        "  print(\"current letter:\",intl)\n",
        "  intl=intl-1\n",
        "  if intl==5:\n",
        "   continue"
      ],
      "metadata": {
        "colab": {
          "base_uri": "https://localhost:8080/"
        },
        "id": "CPiuXib5ij78",
        "outputId": "8d26fe98-e453-4b46-b24c-b5d5263ceb5b"
      },
      "execution_count": null,
      "outputs": [
        {
          "output_type": "stream",
          "name": "stdout",
          "text": [
            "current letter: p\n",
            "\n",
            "\n",
            "current letter: y\n",
            "\n",
            "\n",
            "current letter: t\n",
            "\n",
            "\n",
            "current letter: 10\n",
            "current letter: 9\n",
            "current letter: 8\n",
            "current letter: 7\n",
            "current letter: 6\n",
            "current letter: 5\n",
            "current letter: 4\n",
            "current letter: 3\n",
            "current letter: 2\n",
            "current letter: 1\n"
          ]
        }
      ]
    },
    {
      "cell_type": "code",
      "source": [
        "#palindrome\n",
        "\n",
        "str1=input(\"enter a string: \")\n",
        "str2=str1[::-1]\n",
        "if(str1==str2):\n",
        "  print(\"palindrome\")\n",
        "else:\n",
        "  print(\"not\")"
      ],
      "metadata": {
        "colab": {
          "base_uri": "https://localhost:8080/"
        },
        "id": "HgJgJPHNlfOW",
        "outputId": "549dc163-3443-48fa-d788-02a9c28abb94"
      },
      "execution_count": null,
      "outputs": [
        {
          "output_type": "stream",
          "name": "stdout",
          "text": [
            "enter a string: winiw\n",
            "palindrome\n"
          ]
        }
      ]
    },
    {
      "cell_type": "code",
      "source": [
        "min = int(input(\"Enter the Min Value : \"))\n",
        "max = int(input(\"Enter the Max Value : \"))\n",
        "\n",
        "print(\"Palindrome Numbers between %d and %d are : \" %(min, max))\n",
        "for num in range(min, max + 1):\n",
        "    temp = num\n",
        "    reverse = 0\n",
        "    \n",
        "    while(temp > 0):\n",
        "        Reminder = temp % 10\n",
        "        reverse = (reverse * 10) + Reminder\n",
        "        temp = temp //10\n",
        "\n",
        "    if(num == reverse):\n",
        "        print(\"%d \" %num, end = '  ')"
      ],
      "metadata": {
        "colab": {
          "base_uri": "https://localhost:8080/"
        },
        "id": "8SAuYo1ZmnvK",
        "outputId": "b7b48e09-e268-4bde-86da-1668284ef4be"
      },
      "execution_count": null,
      "outputs": [
        {
          "output_type": "stream",
          "name": "stdout",
          "text": [
            "Enter the Min Value : 1\n",
            "Enter the Max Value : 300\n",
            "Palindrome Numbers between 1 and 300 are : \n",
            "1   2   3   4   5   6   7   8   9   11   22   33   44   55   66   77   88   99   101   111   121   131   141   151   161   171   181   191   202   212   222   232   242   252   262   272   282   292   "
          ]
        }
      ]
    },
    {
      "cell_type": "code",
      "source": [
        "#even\n",
        "\n",
        "l=[1,2,3,4,5,6,7,8]\n",
        "for i in range(len(l)):\n",
        "  if(l[i]%2==0):\n",
        "    print(l[i])\n",
        "print(\"\\n\")\n",
        "  \n",
        "  \n",
        "l=[1,2,3,4,5,6,7,8]\n",
        "even=[]\n",
        "for i in l:\n",
        "  if(i%2==0):\n",
        "    even.append(i)\n",
        "print(even)"
      ],
      "metadata": {
        "colab": {
          "base_uri": "https://localhost:8080/"
        },
        "id": "NsCz1bDCqJaM",
        "outputId": "6ce3e2e0-a3b3-4a6b-af3c-4c9b32c3f37b"
      },
      "execution_count": null,
      "outputs": [
        {
          "output_type": "stream",
          "name": "stdout",
          "text": [
            "2\n",
            "4\n",
            "6\n",
            "8\n",
            "\n",
            "\n",
            "[2, 4, 6, 8]\n"
          ]
        }
      ]
    },
    {
      "cell_type": "markdown",
      "source": [
        "Write a python program that generates desired output i.e, from countries list select out the country names that contain string “and” Countries_list=[“Finland”,”Germany”,”Sweden”,”Ireland”,”Turkey”] Output: [“Finland”,”Ireland”]"
      ],
      "metadata": {
        "id": "CooygZKcstgS"
      }
    },
    {
      "cell_type": "code",
      "source": [
        "countries_list=['Finland','Germany','Sweden','Ireland','Turkey']\n",
        "l=[]\n",
        "for i in countries_list:\n",
        "  if(\"and\"in i):\n",
        "    l.append(i)\n",
        "print(l)"
      ],
      "metadata": {
        "colab": {
          "base_uri": "https://localhost:8080/"
        },
        "id": "0_P1s7bnsxJr",
        "outputId": "d4d097ea-7b1b-4d82-9f71-0e0b7747bf16"
      },
      "execution_count": null,
      "outputs": [
        {
          "output_type": "stream",
          "name": "stdout",
          "text": [
            "['Finland', 'Ireland']\n"
          ]
        }
      ]
    },
    {
      "cell_type": "code",
      "source": [
        "#Create a list with name state list with 5 elements State_list = [“Delhi”,”Telangana”,”Goa”,”AP”,”Kerala”]\n",
        "#Write a python program that extract first and last characters of each item and print in desired format. \n",
        "#Input: [“Delhi”,”Telangana”,”Goa”,”AP”,”Kerala”] Output: dItAgAaOkA\n",
        " \n",
        "\n",
        "state_list=['Delhi','Telangana','Goa','AP','Kerala']\n",
        "l=[]\n",
        "for i in state_list:\n",
        "  l.append(i[0])\n",
        "  l.append(i[len(i)-1])\n",
        "print(l)\n",
        "dtr=\"\".join(l)\n",
        "#print(dtr)\n",
        "str1=dtr.swapcase()\n",
        "print(str1)"
      ],
      "metadata": {
        "colab": {
          "base_uri": "https://localhost:8080/"
        },
        "id": "5fOEMyzyx0CZ",
        "outputId": "04553532-b8b0-46d2-f9fd-d12c79b6b5ac"
      },
      "execution_count": null,
      "outputs": [
        {
          "output_type": "stream",
          "name": "stdout",
          "text": [
            "['D', 'i', 'T', 'a', 'G', 'a', 'A', 'P', 'K', 'a']\n",
            "dItAgAapkA\n"
          ]
        }
      ]
    }
  ]
}